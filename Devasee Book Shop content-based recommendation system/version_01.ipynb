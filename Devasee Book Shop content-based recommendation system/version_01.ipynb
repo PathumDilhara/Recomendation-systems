{
 "cells": [
  {
   "cell_type": "markdown",
   "id": "55ca6889-d084-4f27-8ddb-6ffd63ad5dc2",
   "metadata": {},
   "source": [
    "# Version -01 "
   ]
  },
  {
   "cell_type": "code",
   "execution_count": 148,
   "id": "8c54b456-8ae0-4fe7-b60f-acc76d7497fa",
   "metadata": {},
   "outputs": [],
   "source": [
    "import pandas as pd\n",
    "import numpy as np\n",
    "import requests\n",
    "\n",
    "import os\n",
    "import ast # to convert string into list\n",
    "\n",
    "from sklearn.metrics.pairwise import cosine_similarity\n",
    "from difflib import get_close_matches\n",
    "import joblib\n",
    "\n",
    "from sentence_transformers import SentenceTransformer"
   ]
  },
  {
   "cell_type": "markdown",
   "id": "5f9c783b-96c1-4c81-811b-d725fedc4d85",
   "metadata": {},
   "source": [
    "### # Fetch data from your backend"
   ]
  },
  {
   "cell_type": "code",
   "execution_count": 149,
   "id": "c23aebf5-4266-4129-845a-dc9a3373a1a2",
   "metadata": {},
   "outputs": [],
   "source": [
    "# takes a list of nested JSON objects (like your books_data) and flattens them into a tabular DataFrame\n",
    "# The sep='_' parameter ensures that nested fields get column names like field_subfield instead of keeping them as dictionaries\n",
    "\n",
    "url = \"http://localhost:8080/api/v1/product/books/all\"\n",
    "response = requests.get(url)\n",
    "books_json = response.json() # parses the JSON response from the server into a Python dictionary."
   ]
  },
  {
   "cell_type": "code",
   "execution_count": 150,
   "id": "f82524ab-fad2-4c5a-a8c0-79cba57d08bd",
   "metadata": {},
   "outputs": [],
   "source": [
    "# print(books_json)"
   ]
  },
  {
   "cell_type": "markdown",
   "id": "8c315036-2ea8-4f02-96e7-56af6e7e0bc8",
   "metadata": {},
   "source": [
    "### Extract the 'data' field"
   ]
  },
  {
   "cell_type": "code",
   "execution_count": 151,
   "id": "971ced36-10a0-4b5f-be72-fca6d68a25ec",
   "metadata": {},
   "outputs": [],
   "source": [
    "books_data = books_json['data']"
   ]
  },
  {
   "cell_type": "markdown",
   "id": "bf617d36-9089-4435-85aa-891b002cc04d",
   "metadata": {},
   "source": [
    "### Flatten JSON, including nested objects"
   ]
  },
  {
   "cell_type": "code",
   "execution_count": 152,
   "id": "b4994953-afae-45bb-8694-7d1e3f747501",
   "metadata": {},
   "outputs": [],
   "source": [
    "book_df = pd.json_normalize(books_data, sep='_')"
   ]
  },
  {
   "cell_type": "code",
   "execution_count": 153,
   "id": "2dcccf05-fb49-49b9-bc5a-8ab9b5309dae",
   "metadata": {},
   "outputs": [
    {
     "data": {
      "text/html": [
       "<div>\n",
       "<style scoped>\n",
       "    .dataframe tbody tr th:only-of-type {\n",
       "        vertical-align: middle;\n",
       "    }\n",
       "\n",
       "    .dataframe tbody tr th {\n",
       "        vertical-align: top;\n",
       "    }\n",
       "\n",
       "    .dataframe thead th {\n",
       "        text-align: right;\n",
       "    }\n",
       "</style>\n",
       "<table border=\"1\" class=\"dataframe\">\n",
       "  <thead>\n",
       "    <tr style=\"text-align: right;\">\n",
       "      <th></th>\n",
       "      <th>id</th>\n",
       "      <th>title</th>\n",
       "      <th>author</th>\n",
       "      <th>publisher</th>\n",
       "      <th>category</th>\n",
       "      <th>genres</th>\n",
       "      <th>description</th>\n",
       "      <th>keywords</th>\n",
       "      <th>language</th>\n",
       "      <th>isbn</th>\n",
       "    </tr>\n",
       "  </thead>\n",
       "  <tbody>\n",
       "    <tr>\n",
       "      <th>0</th>\n",
       "      <td>b911c087-5a19-4fc1-8bff-9d59c17ba370</td>\n",
       "      <td>The Fellowship of the Ring</td>\n",
       "      <td>J.R.R. Tolkien</td>\n",
       "      <td>Allen &amp; Unwin</td>\n",
       "      <td>Novel</td>\n",
       "      <td>[{'name': 'Fantasy', 'id': 1}, {'name': 'Epic'...</td>\n",
       "      <td>The first part of the epic trilogy, following ...</td>\n",
       "      <td>[frodo, ring, fellowship, quest, fantasy]</td>\n",
       "      <td>English</td>\n",
       "      <td>9780261103573</td>\n",
       "    </tr>\n",
       "    <tr>\n",
       "      <th>1</th>\n",
       "      <td>b0a44b63-a35f-4b10-b4fb-632ddeb39647</td>\n",
       "      <td>A Game of Thrones</td>\n",
       "      <td>George R.R. Martin</td>\n",
       "      <td>Bantam Books</td>\n",
       "      <td>Novel</td>\n",
       "      <td>[{'name': 'Fantasy', 'id': 1}, {'name': 'Epic'...</td>\n",
       "      <td>Noble families vie for control of the Iron Thr...</td>\n",
       "      <td>[throne, noble, families, fantasy, epic]</td>\n",
       "      <td>English</td>\n",
       "      <td>9780553103540</td>\n",
       "    </tr>\n",
       "    <tr>\n",
       "      <th>2</th>\n",
       "      <td>bb2c36dc-1116-454e-8224-b2e03655a7f6</td>\n",
       "      <td>The Name of the Wind</td>\n",
       "      <td>Patrick Rothfuss</td>\n",
       "      <td>DAW Books</td>\n",
       "      <td>Novel</td>\n",
       "      <td>[{'name': 'Fantasy', 'id': 1}, {'name': 'Adven...</td>\n",
       "      <td>Kvothe recounts his journey from a gifted chil...</td>\n",
       "      <td>[kvothe, magic, music, journey, adventure]</td>\n",
       "      <td>English</td>\n",
       "      <td>9780756404741</td>\n",
       "    </tr>\n",
       "    <tr>\n",
       "      <th>3</th>\n",
       "      <td>bb8770e2-dc3c-4416-a5b0-1da15efe9a0d</td>\n",
       "      <td>Dune</td>\n",
       "      <td>Frank Herbert</td>\n",
       "      <td>Chilton Books</td>\n",
       "      <td>Novel</td>\n",
       "      <td>[{'name': 'Adventure', 'id': 3}, {'name': 'Sci...</td>\n",
       "      <td>The story of Paul Atreides and the desert plan...</td>\n",
       "      <td>[paul, atreides, arrakis, desert, politics]</td>\n",
       "      <td>English</td>\n",
       "      <td>9780441172719</td>\n",
       "    </tr>\n",
       "    <tr>\n",
       "      <th>4</th>\n",
       "      <td>c237c746-6b13-4b60-bb0b-b259d37a18ef</td>\n",
       "      <td>Neuromancer</td>\n",
       "      <td>William Gibson</td>\n",
       "      <td>Ace Books</td>\n",
       "      <td>Novel</td>\n",
       "      <td>[{'name': 'Science Fiction', 'id': 4}, {'name'...</td>\n",
       "      <td>A washed-up computer hacker is hired for one l...</td>\n",
       "      <td>[hacker, ai, cyberspace, future, cyberpunk]</td>\n",
       "      <td>English</td>\n",
       "      <td>9780441569595</td>\n",
       "    </tr>\n",
       "  </tbody>\n",
       "</table>\n",
       "</div>"
      ],
      "text/plain": [
       "                                     id                       title  \\\n",
       "0  b911c087-5a19-4fc1-8bff-9d59c17ba370  The Fellowship of the Ring   \n",
       "1  b0a44b63-a35f-4b10-b4fb-632ddeb39647           A Game of Thrones   \n",
       "2  bb2c36dc-1116-454e-8224-b2e03655a7f6        The Name of the Wind   \n",
       "3  bb8770e2-dc3c-4416-a5b0-1da15efe9a0d                        Dune   \n",
       "4  c237c746-6b13-4b60-bb0b-b259d37a18ef                 Neuromancer   \n",
       "\n",
       "               author      publisher category  \\\n",
       "0      J.R.R. Tolkien  Allen & Unwin    Novel   \n",
       "1  George R.R. Martin   Bantam Books    Novel   \n",
       "2    Patrick Rothfuss      DAW Books    Novel   \n",
       "3       Frank Herbert  Chilton Books    Novel   \n",
       "4      William Gibson      Ace Books    Novel   \n",
       "\n",
       "                                              genres  \\\n",
       "0  [{'name': 'Fantasy', 'id': 1}, {'name': 'Epic'...   \n",
       "1  [{'name': 'Fantasy', 'id': 1}, {'name': 'Epic'...   \n",
       "2  [{'name': 'Fantasy', 'id': 1}, {'name': 'Adven...   \n",
       "3  [{'name': 'Adventure', 'id': 3}, {'name': 'Sci...   \n",
       "4  [{'name': 'Science Fiction', 'id': 4}, {'name'...   \n",
       "\n",
       "                                         description  \\\n",
       "0  The first part of the epic trilogy, following ...   \n",
       "1  Noble families vie for control of the Iron Thr...   \n",
       "2  Kvothe recounts his journey from a gifted chil...   \n",
       "3  The story of Paul Atreides and the desert plan...   \n",
       "4  A washed-up computer hacker is hired for one l...   \n",
       "\n",
       "                                      keywords language           isbn  \n",
       "0    [frodo, ring, fellowship, quest, fantasy]  English  9780261103573  \n",
       "1     [throne, noble, families, fantasy, epic]  English  9780553103540  \n",
       "2   [kvothe, magic, music, journey, adventure]  English  9780756404741  \n",
       "3  [paul, atreides, arrakis, desert, politics]  English  9780441172719  \n",
       "4  [hacker, ai, cyberspace, future, cyberpunk]  English  9780441569595  "
      ]
     },
     "execution_count": 153,
     "metadata": {},
     "output_type": "execute_result"
    }
   ],
   "source": [
    "book_df.head()"
   ]
  },
  {
   "cell_type": "code",
   "execution_count": 154,
   "id": "2835d807-22c4-4657-a1f6-7855ebe566e2",
   "metadata": {},
   "outputs": [
    {
     "data": {
      "text/plain": [
       "Index(['id', 'title', 'author', 'publisher', 'category', 'genres',\n",
       "       'description', 'keywords', 'language', 'isbn'],\n",
       "      dtype='object')"
      ]
     },
     "execution_count": 154,
     "metadata": {},
     "output_type": "execute_result"
    }
   ],
   "source": [
    "book_df.columns"
   ]
  },
  {
   "cell_type": "code",
   "execution_count": 155,
   "id": "60bf32ba-a224-40a5-8f5b-c6fa5b085669",
   "metadata": {},
   "outputs": [
    {
     "data": {
      "text/plain": [
       "[{'name': 'Fantasy', 'id': 1}, {'name': 'Epic', 'id': 2}]"
      ]
     },
     "execution_count": 155,
     "metadata": {},
     "output_type": "execute_result"
    }
   ],
   "source": [
    "book_df.iloc[0]['genres']"
   ]
  },
  {
   "cell_type": "markdown",
   "id": "c9ab1bf9-c319-412c-9272-9ca79a9c2f9f",
   "metadata": {},
   "source": [
    "## Data cleaning"
   ]
  },
  {
   "cell_type": "markdown",
   "id": "7118c74b-ce46-4171-b86d-d1e4ec209283",
   "metadata": {},
   "source": [
    "##### Convert all list columns into string representation for applying data cleaning functions"
   ]
  },
  {
   "cell_type": "code",
   "execution_count": 156,
   "id": "dcbd9489-cff8-4261-b9b6-193345bb5c75",
   "metadata": {},
   "outputs": [
    {
     "name": "stdout",
     "output_type": "stream",
     "text": [
      "<class 'list'>\n",
      "<class 'list'>\n"
     ]
    }
   ],
   "source": [
    "print(type(book_df.iloc[0]['genres']))\n",
    "print(type(book_df.iloc[0]['keywords']))"
   ]
  },
  {
   "cell_type": "code",
   "execution_count": 157,
   "id": "a9049ac4-78a4-4010-9589-5119b178e48e",
   "metadata": {
    "scrolled": true
   },
   "outputs": [
    {
     "data": {
      "text/html": [
       "<div>\n",
       "<style scoped>\n",
       "    .dataframe tbody tr th:only-of-type {\n",
       "        vertical-align: middle;\n",
       "    }\n",
       "\n",
       "    .dataframe tbody tr th {\n",
       "        vertical-align: top;\n",
       "    }\n",
       "\n",
       "    .dataframe thead th {\n",
       "        text-align: right;\n",
       "    }\n",
       "</style>\n",
       "<table border=\"1\" class=\"dataframe\">\n",
       "  <thead>\n",
       "    <tr style=\"text-align: right;\">\n",
       "      <th></th>\n",
       "      <th>id</th>\n",
       "      <th>title</th>\n",
       "      <th>author</th>\n",
       "      <th>publisher</th>\n",
       "      <th>category</th>\n",
       "      <th>genres</th>\n",
       "      <th>description</th>\n",
       "      <th>keywords</th>\n",
       "      <th>language</th>\n",
       "      <th>isbn</th>\n",
       "    </tr>\n",
       "  </thead>\n",
       "  <tbody>\n",
       "    <tr>\n",
       "      <th>0</th>\n",
       "      <td>b911c087-5a19-4fc1-8bff-9d59c17ba370</td>\n",
       "      <td>The Fellowship of the Ring</td>\n",
       "      <td>J.R.R. Tolkien</td>\n",
       "      <td>Allen &amp; Unwin</td>\n",
       "      <td>Novel</td>\n",
       "      <td>[{'name': 'Fantasy', 'id': 1}, {'name': 'Epic'...</td>\n",
       "      <td>The first part of the epic trilogy, following ...</td>\n",
       "      <td>['frodo', 'ring', 'fellowship', 'quest', 'fant...</td>\n",
       "      <td>English</td>\n",
       "      <td>9780261103573</td>\n",
       "    </tr>\n",
       "    <tr>\n",
       "      <th>1</th>\n",
       "      <td>b0a44b63-a35f-4b10-b4fb-632ddeb39647</td>\n",
       "      <td>A Game of Thrones</td>\n",
       "      <td>George R.R. Martin</td>\n",
       "      <td>Bantam Books</td>\n",
       "      <td>Novel</td>\n",
       "      <td>[{'name': 'Fantasy', 'id': 1}, {'name': 'Epic'...</td>\n",
       "      <td>Noble families vie for control of the Iron Thr...</td>\n",
       "      <td>['throne', 'noble', 'families', 'fantasy', 'ep...</td>\n",
       "      <td>English</td>\n",
       "      <td>9780553103540</td>\n",
       "    </tr>\n",
       "    <tr>\n",
       "      <th>2</th>\n",
       "      <td>bb2c36dc-1116-454e-8224-b2e03655a7f6</td>\n",
       "      <td>The Name of the Wind</td>\n",
       "      <td>Patrick Rothfuss</td>\n",
       "      <td>DAW Books</td>\n",
       "      <td>Novel</td>\n",
       "      <td>[{'name': 'Fantasy', 'id': 1}, {'name': 'Adven...</td>\n",
       "      <td>Kvothe recounts his journey from a gifted chil...</td>\n",
       "      <td>['kvothe', 'magic', 'music', 'journey', 'adven...</td>\n",
       "      <td>English</td>\n",
       "      <td>9780756404741</td>\n",
       "    </tr>\n",
       "    <tr>\n",
       "      <th>3</th>\n",
       "      <td>bb8770e2-dc3c-4416-a5b0-1da15efe9a0d</td>\n",
       "      <td>Dune</td>\n",
       "      <td>Frank Herbert</td>\n",
       "      <td>Chilton Books</td>\n",
       "      <td>Novel</td>\n",
       "      <td>[{'name': 'Adventure', 'id': 3}, {'name': 'Sci...</td>\n",
       "      <td>The story of Paul Atreides and the desert plan...</td>\n",
       "      <td>['paul', 'atreides', 'arrakis', 'desert', 'pol...</td>\n",
       "      <td>English</td>\n",
       "      <td>9780441172719</td>\n",
       "    </tr>\n",
       "    <tr>\n",
       "      <th>4</th>\n",
       "      <td>c237c746-6b13-4b60-bb0b-b259d37a18ef</td>\n",
       "      <td>Neuromancer</td>\n",
       "      <td>William Gibson</td>\n",
       "      <td>Ace Books</td>\n",
       "      <td>Novel</td>\n",
       "      <td>[{'name': 'Science Fiction', 'id': 4}, {'name'...</td>\n",
       "      <td>A washed-up computer hacker is hired for one l...</td>\n",
       "      <td>['hacker', 'ai', 'cyberspace', 'future', 'cybe...</td>\n",
       "      <td>English</td>\n",
       "      <td>9780441569595</td>\n",
       "    </tr>\n",
       "  </tbody>\n",
       "</table>\n",
       "</div>"
      ],
      "text/plain": [
       "                                     id                       title  \\\n",
       "0  b911c087-5a19-4fc1-8bff-9d59c17ba370  The Fellowship of the Ring   \n",
       "1  b0a44b63-a35f-4b10-b4fb-632ddeb39647           A Game of Thrones   \n",
       "2  bb2c36dc-1116-454e-8224-b2e03655a7f6        The Name of the Wind   \n",
       "3  bb8770e2-dc3c-4416-a5b0-1da15efe9a0d                        Dune   \n",
       "4  c237c746-6b13-4b60-bb0b-b259d37a18ef                 Neuromancer   \n",
       "\n",
       "               author      publisher category  \\\n",
       "0      J.R.R. Tolkien  Allen & Unwin    Novel   \n",
       "1  George R.R. Martin   Bantam Books    Novel   \n",
       "2    Patrick Rothfuss      DAW Books    Novel   \n",
       "3       Frank Herbert  Chilton Books    Novel   \n",
       "4      William Gibson      Ace Books    Novel   \n",
       "\n",
       "                                              genres  \\\n",
       "0  [{'name': 'Fantasy', 'id': 1}, {'name': 'Epic'...   \n",
       "1  [{'name': 'Fantasy', 'id': 1}, {'name': 'Epic'...   \n",
       "2  [{'name': 'Fantasy', 'id': 1}, {'name': 'Adven...   \n",
       "3  [{'name': 'Adventure', 'id': 3}, {'name': 'Sci...   \n",
       "4  [{'name': 'Science Fiction', 'id': 4}, {'name'...   \n",
       "\n",
       "                                         description  \\\n",
       "0  The first part of the epic trilogy, following ...   \n",
       "1  Noble families vie for control of the Iron Thr...   \n",
       "2  Kvothe recounts his journey from a gifted chil...   \n",
       "3  The story of Paul Atreides and the desert plan...   \n",
       "4  A washed-up computer hacker is hired for one l...   \n",
       "\n",
       "                                            keywords language           isbn  \n",
       "0  ['frodo', 'ring', 'fellowship', 'quest', 'fant...  English  9780261103573  \n",
       "1  ['throne', 'noble', 'families', 'fantasy', 'ep...  English  9780553103540  \n",
       "2  ['kvothe', 'magic', 'music', 'journey', 'adven...  English  9780756404741  \n",
       "3  ['paul', 'atreides', 'arrakis', 'desert', 'pol...  English  9780441172719  \n",
       "4  ['hacker', 'ai', 'cyberspace', 'future', 'cybe...  English  9780441569595  "
      ]
     },
     "execution_count": 157,
     "metadata": {},
     "output_type": "execute_result"
    }
   ],
   "source": [
    "for col in book_df:\n",
    "    if book_df[col].apply(lambda x : isinstance(x, list)).any():\n",
    "        book_df[col] = book_df[col].apply(lambda x : str(x))\n",
    "book_df.head()"
   ]
  },
  {
   "cell_type": "code",
   "execution_count": 158,
   "id": "623fa1c9-c77c-4d19-b9ea-bfe94a607ecf",
   "metadata": {},
   "outputs": [
    {
     "name": "stdout",
     "output_type": "stream",
     "text": [
      "<class 'str'>\n",
      "<class 'str'>\n"
     ]
    }
   ],
   "source": [
    "print(type(book_df.iloc[0]['genres']))\n",
    "print(type(book_df.iloc[0]['keywords']))"
   ]
  },
  {
   "cell_type": "code",
   "execution_count": 159,
   "id": "c5c9b32b-eaab-437c-8472-8adff95f3a73",
   "metadata": {
    "scrolled": true
   },
   "outputs": [
    {
     "data": {
      "text/plain": [
       "np.int64(0)"
      ]
     },
     "execution_count": 159,
     "metadata": {},
     "output_type": "execute_result"
    }
   ],
   "source": [
    "book_df.duplicated(keep=False).sum()"
   ]
  },
  {
   "cell_type": "code",
   "execution_count": 160,
   "id": "7e7f48f4-3fee-4d25-bf3d-efb030b5d651",
   "metadata": {},
   "outputs": [
    {
     "data": {
      "text/plain": [
       "id             0\n",
       "title          0\n",
       "author         0\n",
       "publisher      0\n",
       "category       0\n",
       "genres         0\n",
       "description    0\n",
       "keywords       0\n",
       "language       0\n",
       "isbn           0\n",
       "dtype: int64"
      ]
     },
     "execution_count": 160,
     "metadata": {},
     "output_type": "execute_result"
    }
   ],
   "source": [
    "book_df.isnull().sum()"
   ]
  },
  {
   "cell_type": "code",
   "execution_count": 161,
   "id": "47f0e097-748b-4e37-b345-39100a8325ae",
   "metadata": {},
   "outputs": [
    {
     "data": {
      "text/plain": [
       "id                          b911c087-5a19-4fc1-8bff-9d59c17ba370\n",
       "title                                 The Fellowship of the Ring\n",
       "author                                            J.R.R. Tolkien\n",
       "publisher                                          Allen & Unwin\n",
       "category                                                   Novel\n",
       "genres         [{'name': 'Fantasy', 'id': 1}, {'name': 'Epic'...\n",
       "description    The first part of the epic trilogy, following ...\n",
       "keywords       ['frodo', 'ring', 'fellowship', 'quest', 'fant...\n",
       "language                                                 English\n",
       "isbn                                               9780261103573\n",
       "Name: 0, dtype: object"
      ]
     },
     "execution_count": 161,
     "metadata": {},
     "output_type": "execute_result"
    }
   ],
   "source": [
    "book_df.iloc[0]"
   ]
  },
  {
   "cell_type": "markdown",
   "id": "1366c641-c691-46da-b6a2-7203342e9f67",
   "metadata": {},
   "source": [
    "## Data Cleaning Functions"
   ]
  },
  {
   "cell_type": "code",
   "execution_count": 167,
   "id": "e6fec3f1-18a8-478f-a305-4bb9c13a97e5",
   "metadata": {},
   "outputs": [],
   "source": [
    "# convert string list into list for fetchign specific df, always pass a string\n",
    "def genres_string_to_list_convertor(text, no_of_items=None):\n",
    "\n",
    "    if isinstance(text, list) :\n",
    "        return text\n",
    "        \n",
    "    # text is null return []\n",
    "    if isinstance(text, float) and pd.isna(text):\n",
    "        return []\n",
    "        \n",
    "    word_list = []\n",
    "    count=1\n",
    "    \n",
    "    for i in ast.literal_eval(text):\n",
    "        word_list.append(i['name'])\n",
    "        if no_of_items is not None:\n",
    "            if count >= no_of_items:\n",
    "                break\n",
    "            count += 1\n",
    "            \n",
    "    return word_list\n",
    "\n",
    "# convert string list into list for fetchign specific df, always pass a string\n",
    "def keywords_string_to_list_convertor(text, no_of_items=None):\n",
    "\n",
    "    if isinstance(text, list) :\n",
    "        return text\n",
    "        \n",
    "    # text is null return []\n",
    "    if isinstance(text, float) and pd.isna(text):\n",
    "        return []\n",
    "        \n",
    "    word_list = []\n",
    "    count=1\n",
    "    \n",
    "    for i in ast.literal_eval(text):\n",
    "        word_list.append(i)\n",
    "        if no_of_items is not None:\n",
    "            if count >= no_of_items:\n",
    "                break\n",
    "            count += 1\n",
    "            \n",
    "    return word_list\n",
    "\n",
    "# Reomove spaces betweeen names, always pass a list of str\n",
    "def remove_spaces(text):\n",
    "    words = []\n",
    "    \n",
    "    for i in text:\n",
    "        words.append(i.replace(\" \", \"\"))\n",
    "    return words\n",
    "\n",
    "# convert words in text list into lower, pass a list of str\n",
    "def lowercase_words(text):\n",
    "    if isinstance(text, list):\n",
    "        return text\n",
    "    return [i.lower() for i in text]\n",
    "\n",
    "# wraps it into a single-element list, pass str\n",
    "def to_list(text):\n",
    "    if isinstance(text, list):\n",
    "        return text\n",
    "\n",
    "    if isinstance(text, str):\n",
    "        return [text]\n",
    "    else:\n",
    "        return []\n",
    "        "
   ]
  },
  {
   "cell_type": "markdown",
   "id": "5cbf149a-69e6-4810-b527-8ddbf14523ba",
   "metadata": {},
   "source": [
    "### Convert into list, lowercasing, space removing"
   ]
  },
  {
   "cell_type": "code",
   "execution_count": 168,
   "id": "a1d7064b-696a-4e02-916f-f9bb38888f5d",
   "metadata": {
    "scrolled": true
   },
   "outputs": [
    {
     "data": {
      "text/html": [
       "<div>\n",
       "<style scoped>\n",
       "    .dataframe tbody tr th:only-of-type {\n",
       "        vertical-align: middle;\n",
       "    }\n",
       "\n",
       "    .dataframe tbody tr th {\n",
       "        vertical-align: top;\n",
       "    }\n",
       "\n",
       "    .dataframe thead th {\n",
       "        text-align: right;\n",
       "    }\n",
       "</style>\n",
       "<table border=\"1\" class=\"dataframe\">\n",
       "  <thead>\n",
       "    <tr style=\"text-align: right;\">\n",
       "      <th></th>\n",
       "      <th>id</th>\n",
       "      <th>title</th>\n",
       "      <th>author</th>\n",
       "      <th>publisher</th>\n",
       "      <th>category</th>\n",
       "      <th>genres</th>\n",
       "      <th>description</th>\n",
       "      <th>keywords</th>\n",
       "      <th>language</th>\n",
       "      <th>isbn</th>\n",
       "    </tr>\n",
       "  </thead>\n",
       "  <tbody>\n",
       "    <tr>\n",
       "      <th>0</th>\n",
       "      <td>b911c087-5a19-4fc1-8bff-9d59c17ba370</td>\n",
       "      <td>The Fellowship of the Ring</td>\n",
       "      <td>[J.R.R.Tolkien]</td>\n",
       "      <td>[Allen&amp;Unwin]</td>\n",
       "      <td>[Novel]</td>\n",
       "      <td>[Fantasy, Epic]</td>\n",
       "      <td>[The, first, part, of, the, epic, trilogy,, fo...</td>\n",
       "      <td>[frodo, ring, fellowship, quest, fantasy]</td>\n",
       "      <td>English</td>\n",
       "      <td>9780261103573</td>\n",
       "    </tr>\n",
       "    <tr>\n",
       "      <th>1</th>\n",
       "      <td>b0a44b63-a35f-4b10-b4fb-632ddeb39647</td>\n",
       "      <td>A Game of Thrones</td>\n",
       "      <td>[GeorgeR.R.Martin]</td>\n",
       "      <td>[BantamBooks]</td>\n",
       "      <td>[Novel]</td>\n",
       "      <td>[Fantasy, Epic]</td>\n",
       "      <td>[Noble, families, vie, for, control, of, the, ...</td>\n",
       "      <td>[throne, noble, families, fantasy, epic]</td>\n",
       "      <td>English</td>\n",
       "      <td>9780553103540</td>\n",
       "    </tr>\n",
       "    <tr>\n",
       "      <th>2</th>\n",
       "      <td>bb2c36dc-1116-454e-8224-b2e03655a7f6</td>\n",
       "      <td>The Name of the Wind</td>\n",
       "      <td>[PatrickRothfuss]</td>\n",
       "      <td>[DAWBooks]</td>\n",
       "      <td>[Novel]</td>\n",
       "      <td>[Fantasy, Adventure]</td>\n",
       "      <td>[Kvothe, recounts, his, journey, from, a, gift...</td>\n",
       "      <td>[kvothe, magic, music, journey, adventure]</td>\n",
       "      <td>English</td>\n",
       "      <td>9780756404741</td>\n",
       "    </tr>\n",
       "    <tr>\n",
       "      <th>3</th>\n",
       "      <td>bb8770e2-dc3c-4416-a5b0-1da15efe9a0d</td>\n",
       "      <td>Dune</td>\n",
       "      <td>[FrankHerbert]</td>\n",
       "      <td>[ChiltonBooks]</td>\n",
       "      <td>[Novel]</td>\n",
       "      <td>[Adventure, ScienceFiction]</td>\n",
       "      <td>[The, story, of, Paul, Atreides, and, the, des...</td>\n",
       "      <td>[paul, atreides, arrakis, desert, politics]</td>\n",
       "      <td>English</td>\n",
       "      <td>9780441172719</td>\n",
       "    </tr>\n",
       "    <tr>\n",
       "      <th>4</th>\n",
       "      <td>c237c746-6b13-4b60-bb0b-b259d37a18ef</td>\n",
       "      <td>Neuromancer</td>\n",
       "      <td>[WilliamGibson]</td>\n",
       "      <td>[AceBooks]</td>\n",
       "      <td>[Novel]</td>\n",
       "      <td>[ScienceFiction, Cyberpunk]</td>\n",
       "      <td>[A, washed-up, computer, hacker, is, hired, fo...</td>\n",
       "      <td>[hacker, ai, cyberspace, future, cyberpunk]</td>\n",
       "      <td>English</td>\n",
       "      <td>9780441569595</td>\n",
       "    </tr>\n",
       "  </tbody>\n",
       "</table>\n",
       "</div>"
      ],
      "text/plain": [
       "                                     id                       title  \\\n",
       "0  b911c087-5a19-4fc1-8bff-9d59c17ba370  The Fellowship of the Ring   \n",
       "1  b0a44b63-a35f-4b10-b4fb-632ddeb39647           A Game of Thrones   \n",
       "2  bb2c36dc-1116-454e-8224-b2e03655a7f6        The Name of the Wind   \n",
       "3  bb8770e2-dc3c-4416-a5b0-1da15efe9a0d                        Dune   \n",
       "4  c237c746-6b13-4b60-bb0b-b259d37a18ef                 Neuromancer   \n",
       "\n",
       "               author       publisher category                       genres  \\\n",
       "0     [J.R.R.Tolkien]   [Allen&Unwin]  [Novel]              [Fantasy, Epic]   \n",
       "1  [GeorgeR.R.Martin]   [BantamBooks]  [Novel]              [Fantasy, Epic]   \n",
       "2   [PatrickRothfuss]      [DAWBooks]  [Novel]         [Fantasy, Adventure]   \n",
       "3      [FrankHerbert]  [ChiltonBooks]  [Novel]  [Adventure, ScienceFiction]   \n",
       "4     [WilliamGibson]      [AceBooks]  [Novel]  [ScienceFiction, Cyberpunk]   \n",
       "\n",
       "                                         description  \\\n",
       "0  [The, first, part, of, the, epic, trilogy,, fo...   \n",
       "1  [Noble, families, vie, for, control, of, the, ...   \n",
       "2  [Kvothe, recounts, his, journey, from, a, gift...   \n",
       "3  [The, story, of, Paul, Atreides, and, the, des...   \n",
       "4  [A, washed-up, computer, hacker, is, hired, fo...   \n",
       "\n",
       "                                      keywords language           isbn  \n",
       "0    [frodo, ring, fellowship, quest, fantasy]  English  9780261103573  \n",
       "1     [throne, noble, families, fantasy, epic]  English  9780553103540  \n",
       "2   [kvothe, magic, music, journey, adventure]  English  9780756404741  \n",
       "3  [paul, atreides, arrakis, desert, politics]  English  9780441172719  \n",
       "4  [hacker, ai, cyberspace, future, cyberpunk]  English  9780441569595  "
      ]
     },
     "execution_count": 168,
     "metadata": {},
     "output_type": "execute_result"
    }
   ],
   "source": [
    "book_df['genres'] = book_df['genres'].apply(genres_string_to_list_convertor).apply(remove_spaces).apply(lowercase_words)\n",
    "book_df['keywords'] = book_df['keywords'].apply(keywords_string_to_list_convertor).apply(remove_spaces).apply(lowercase_words)\n",
    "book_df['description'] = book_df['description'].apply(lambda x : x.split() if isinstance(x, str) else x).apply(lowercase_words)\n",
    "book_df['author'] = book_df['author'].apply(to_list).apply(remove_spaces).apply(lowercase_words)\n",
    "book_df['publisher']  = book_df['publisher'].apply(to_list).apply(remove_spaces).apply(lowercase_words)\n",
    "book_df['category']  = book_df['category'].apply(to_list).apply(remove_spaces).apply(lowercase_words)\n",
    "\n",
    "book_df.head()"
   ]
  },
  {
   "cell_type": "markdown",
   "id": "a74b91c2-4648-4f1a-929c-2811e699c085",
   "metadata": {},
   "source": [
    "## Load embedding model"
   ]
  },
  {
   "cell_type": "code",
   "execution_count": 169,
   "id": "a0f5d0eb-b201-4fe8-a267-b53a422afe21",
   "metadata": {},
   "outputs": [],
   "source": [
    "model = SentenceTransformer('all-MiniLM-L6-v2')\n",
    "\n",
    "# Define weights\n",
    "weights = {\n",
    "    'author': 1.0,\n",
    "    'publisher': 0.5,\n",
    "    'category': 3.0,\n",
    "    'genres': 3.0,\n",
    "    'description': 1.5,\n",
    "    'keywords': 2.0\n",
    "}\n",
    "\n",
    "# Function to create weighted embeddings\n",
    "def get_weighted_embedding(row, model, weights):\n",
    "     # convert lists to strings\n",
    "    parts = {\n",
    "        'author': \" \".join(row['author']),\n",
    "        'publisher': \" \".join(row['publisher']),\n",
    "        'category': \" \".join(row['category']),\n",
    "        'genres': \" \".join(row['genres']),\n",
    "        'description': \" \".join(row['description']),\n",
    "        'keywords': \" \".join(row['keywords'])\n",
    "    }\n",
    "\n",
    "    final_embedding = np.zeros(model.get_sentence_embedding_dimension())\n",
    "\n",
    "    for key, text in parts.items():\n",
    "        if text.strip(): # skip empty\n",
    "            emb = model.encode(text)\n",
    "            final_embedding += weights[key] * emb\n",
    "    return final_embedding"
   ]
  },
  {
   "cell_type": "markdown",
   "id": "f950ffb2-9e07-491b-8b8c-102e7a245d29",
   "metadata": {},
   "source": [
    "## Compute weighted embeddings for all movies with a progress bar"
   ]
  },
  {
   "cell_type": "code",
   "execution_count": 170,
   "id": "953ab4ac-dc40-4312-a81a-1c7252014744",
   "metadata": {},
   "outputs": [
    {
     "name": "stderr",
     "output_type": "stream",
     "text": [
      "Embedding books: 100%|█████████████████████████████████████████████████████████████████| 10/10 [00:02<00:00,  4.79it/s]\n"
     ]
    }
   ],
   "source": [
    "from tqdm import tqdm\n",
    "\n",
    "# empty list to hold embeddings\n",
    "embedding_list = []\n",
    "\n",
    "# Iterate over rows with a progress bar\n",
    "for _, row  in tqdm(book_df.iterrows(), total=len(book_df), desc=\"Embedding books\"):\n",
    "    # Get the embedding for this row\n",
    "    emb = get_weighted_embedding(row, model, weights)\n",
    "    \n",
    "    # Append to our list\n",
    "    embedding_list.append(emb)\n",
    "    \n",
    "# Convert final list into a NumPy array\n",
    "embeddings = np.array(embedding_list)  \n"
   ]
  },
  {
   "cell_type": "code",
   "execution_count": 171,
   "id": "971241ea-b912-48da-8e8b-39e7f263f00c",
   "metadata": {
    "scrolled": true
   },
   "outputs": [
    {
     "data": {
      "text/plain": [
       "(10, 384)"
      ]
     },
     "execution_count": 171,
     "metadata": {},
     "output_type": "execute_result"
    }
   ],
   "source": [
    "embeddings.shape"
   ]
  },
  {
   "cell_type": "markdown",
   "id": "b8aab656-a1c1-4f26-9fef-2222b79f6b3c",
   "metadata": {},
   "source": [
    "## Cosine similarity, Reccomendation function"
   ]
  },
  {
   "cell_type": "code",
   "execution_count": 172,
   "id": "f9240834-6d5d-44f8-99a8-be578bed79e9",
   "metadata": {},
   "outputs": [],
   "source": [
    "similarity_matrix = cosine_similarity(embeddings)"
   ]
  },
  {
   "cell_type": "code",
   "execution_count": 173,
   "id": "6066e3a8-495a-4329-9cd0-2dd2b9a9e5aa",
   "metadata": {},
   "outputs": [],
   "source": [
    "def recommend(book, top_k=3):\n",
    "    titles = book_df['title'].tolist()\n",
    "\n",
    "    # Find the closest match (allowing typos / case differences)\n",
    "    matches = get_close_matches(book, titles, n=1, cutoff=0.6)\n",
    "\n",
    "    # Checks if the matches list is empty\n",
    "    if not matches:\n",
    "        print(f\"No close match found for '{movie}'\")\n",
    "        return\n",
    "\n",
    "    best_match = matches[0]\n",
    "    # Finds the row number of the movie in new_df whose title exactly matches best_match\n",
    "    index = book_df[book_df['title'] == best_match].index[0]\n",
    "\n",
    "    distances = similarity_matrix[index]\n",
    "    distance_pairs = list(enumerate(distances))\n",
    "    distance_pairs = sorted(distance_pairs, key=lambda x: x[1], reverse=True)\n",
    "\n",
    "    # ignore first value (1 is itself same book)\n",
    "    results = []\n",
    "    \n",
    "    print(f\"\\nResults for: {best_match}\\n\")\n",
    "\n",
    "    for i, score in distance_pairs[1: top_k+1]:\n",
    "        book_title = book_df.iloc[i]['title']\n",
    "        results.append((book_title, score)) # only accepts one argument\n",
    "        print(f\"{book_title} (Similarity: {score:.3f})\")\n",
    "    return results"
   ]
  },
  {
   "cell_type": "code",
   "execution_count": 180,
   "id": "951ede6e-95db-4a5a-814f-904c2ed2e0e6",
   "metadata": {},
   "outputs": [
    {
     "name": "stdout",
     "output_type": "stream",
     "text": [
      "\n",
      "Results for: A Game of Thrones\n",
      "\n",
      "The Fellowship of the Ring (Similarity: 0.877)\n",
      "The Name of the Wind (Similarity: 0.797)\n",
      "Dune (Similarity: 0.669)\n"
     ]
    }
   ],
   "source": [
    "recommended_books = recommend('A Game of Throes', 3)"
   ]
  },
  {
   "cell_type": "code",
   "execution_count": 181,
   "id": "a19a99e6-22df-4325-8c61-f86df7841f71",
   "metadata": {},
   "outputs": [
    {
     "data": {
      "text/plain": [
       "[('The Fellowship of the Ring', np.float64(0.8765903127999182)),\n",
       " ('The Name of the Wind', np.float64(0.7969221458440172)),\n",
       " ('Dune', np.float64(0.6686851352208568))]"
      ]
     },
     "execution_count": 181,
     "metadata": {},
     "output_type": "execute_result"
    }
   ],
   "source": [
    "recommended_books"
   ]
  },
  {
   "cell_type": "code",
   "execution_count": 183,
   "id": "d63468ce-4815-4979-8a22-fdb36169f5d2",
   "metadata": {},
   "outputs": [
    {
     "data": {
      "text/plain": [
       "['artifacts_v1/similarity_matrix.pkl']"
      ]
     },
     "execution_count": 183,
     "metadata": {},
     "output_type": "execute_result"
    }
   ],
   "source": [
    "os.makedirs('artifacts_v1', exist_ok=True)\n",
    "\n",
    "joblib.dump(book_df, 'artifacts_v1/book_df.pkl')\n",
    "joblib.dump(similarity_matrix, 'artifacts_v1/similarity_matrix.pkl')"
   ]
  },
  {
   "cell_type": "code",
   "execution_count": null,
   "id": "c924f329-b6a9-4452-a138-fcf3ad624a92",
   "metadata": {},
   "outputs": [],
   "source": []
  }
 ],
 "metadata": {
  "kernelspec": {
   "display_name": "Python 3 (ipykernel)",
   "language": "python",
   "name": "python3"
  },
  "language_info": {
   "codemirror_mode": {
    "name": "ipython",
    "version": 3
   },
   "file_extension": ".py",
   "mimetype": "text/x-python",
   "name": "python",
   "nbconvert_exporter": "python",
   "pygments_lexer": "ipython3",
   "version": "3.13.5"
  }
 },
 "nbformat": 4,
 "nbformat_minor": 5
}
